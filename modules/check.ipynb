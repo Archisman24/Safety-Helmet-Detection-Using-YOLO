{
 "cells": [
  {
   "cell_type": "code",
   "execution_count": 11,
   "metadata": {},
   "outputs": [],
   "source": [
    "import os\n",
    "from ultralytics import YOLO\n",
    "from annotations_to_cropped_image import annot2crop"
   ]
  },
  {
   "cell_type": "code",
   "execution_count": null,
   "metadata": {},
   "outputs": [],
   "source": [
    "classes = {\n",
    "    '0': 'helmet',\n",
    "    '1': 'head',\n",
    "    '2': 'person'\n",
    "}\n",
    "classes2crop = ['0', '1']\n",
    "folder = r'F:\\Projects\\Safety Helmet Detection - Using YOLO\\dataset'\n",
    "directory = os.path.join(folder, 'test', 'images')\n",
    " \n",
    "# iterate over files in\n",
    "# that directory\n",
    "for filename in os.listdir(directory):\n",
    "    f = os.path.join(directory, filename)\n",
    "    print(f)\n",
    "    if os.path.isfile(f):\n",
    "        annot2crop(f, classes = classes, classes2crop = classes2crop)"
   ]
  },
  {
   "cell_type": "code",
   "execution_count": 1,
   "metadata": {},
   "outputs": [
    {
     "name": "stdout",
     "output_type": "stream",
     "text": [
      "Requirement already satisfied: roboflow in c:\\users\\archisman\\anaconda3\\lib\\site-packages (1.1.1)\n",
      "Requirement already satisfied: requests in c:\\users\\archisman\\anaconda3\\lib\\site-packages (from roboflow) (2.27.1)\n",
      "Requirement already satisfied: idna==2.10 in c:\\users\\archisman\\anaconda3\\lib\\site-packages (from roboflow) (2.10)\n",
      "Requirement already satisfied: python-dotenv in c:\\users\\archisman\\anaconda3\\lib\\site-packages (from roboflow) (1.0.0)\n",
      "Requirement already satisfied: Pillow>=7.1.2 in c:\\users\\archisman\\anaconda3\\lib\\site-packages (from roboflow) (9.0.1)\n",
      "Requirement already satisfied: requests-toolbelt in c:\\users\\archisman\\anaconda3\\lib\\site-packages (from roboflow) (1.0.0)\n",
      "Requirement already satisfied: pyparsing==2.4.7 in c:\\users\\archisman\\anaconda3\\lib\\site-packages (from roboflow) (2.4.7)\n",
      "Requirement already satisfied: certifi==2022.12.7 in c:\\users\\archisman\\anaconda3\\lib\\site-packages (from roboflow) (2022.12.7)\n",
      "Requirement already satisfied: urllib3>=1.26.6 in c:\\users\\archisman\\anaconda3\\lib\\site-packages (from roboflow) (1.26.9)\n",
      "Requirement already satisfied: python-dateutil in c:\\users\\archisman\\anaconda3\\lib\\site-packages (from roboflow) (2.8.2)\n",
      "Requirement already satisfied: cycler==0.10.0 in c:\\users\\archisman\\anaconda3\\lib\\site-packages (from roboflow) (0.10.0)\n",
      "Requirement already satisfied: PyYAML>=5.3.1 in c:\\users\\archisman\\anaconda3\\lib\\site-packages (from roboflow) (5.4.1)\n",
      "Requirement already satisfied: supervision in c:\\users\\archisman\\anaconda3\\lib\\site-packages (from roboflow) (0.11.1)\n",
      "Requirement already satisfied: wget in c:\\users\\archisman\\anaconda3\\lib\\site-packages (from roboflow) (3.2)\n",
      "Requirement already satisfied: tqdm>=4.41.0 in c:\\users\\archisman\\anaconda3\\lib\\site-packages (from roboflow) (4.64.0)\n",
      "Requirement already satisfied: chardet==4.0.0 in c:\\users\\archisman\\anaconda3\\lib\\site-packages (from roboflow) (4.0.0)\n",
      "Requirement already satisfied: numpy>=1.18.5 in c:\\users\\archisman\\anaconda3\\lib\\site-packages (from roboflow) (1.22.4)\n",
      "Requirement already satisfied: opencv-python>=4.1.2 in c:\\users\\archisman\\anaconda3\\lib\\site-packages (from roboflow) (4.6.0.66)\n",
      "Requirement already satisfied: six in c:\\users\\archisman\\anaconda3\\lib\\site-packages (from roboflow) (1.16.0)\n",
      "Requirement already satisfied: kiwisolver>=1.3.1 in c:\\users\\archisman\\anaconda3\\lib\\site-packages (from roboflow) (1.3.2)\n",
      "Requirement already satisfied: matplotlib in c:\\users\\archisman\\anaconda3\\lib\\site-packages (from roboflow) (3.5.1)\n",
      "Requirement already satisfied: colorama in c:\\users\\archisman\\anaconda3\\lib\\site-packages (from tqdm>=4.41.0->roboflow) (0.4.4)\n",
      "Requirement already satisfied: packaging>=20.0 in c:\\users\\archisman\\anaconda3\\lib\\site-packages (from matplotlib->roboflow) (21.3)\n",
      "Requirement already satisfied: fonttools>=4.22.0 in c:\\users\\archisman\\anaconda3\\lib\\site-packages (from matplotlib->roboflow) (4.25.0)\n",
      "Requirement already satisfied: charset-normalizer~=2.0.0 in c:\\users\\archisman\\anaconda3\\lib\\site-packages (from requests->roboflow) (2.0.4)\n",
      "loading Roboflow workspace...\n",
      "loading Roboflow project...\n",
      "Dependency ultralytics<=8.0.20 is required but found version=8.0.150, to fix: `pip install ultralytics<=8.0.20`\n",
      "Downloading Dataset Version Zip in Hard-Hats-1 to yolov8: 100% [1252695289 / 1252695289] bytes\n"
     ]
    },
    {
     "name": "stderr",
     "output_type": "stream",
     "text": [
      "Extracting Dataset Version Zip to Hard-Hats-1 in yolov8:: 100%|██████████| 39432/39432 [02:05<00:00, 315.33it/s]\n"
     ]
    }
   ],
   "source": [
    "!pip install roboflow\n",
    "\n",
    "from roboflow import Roboflow\n",
    "rf = Roboflow(api_key=\"3k62udR9ybTomdATpE7y\")\n",
    "project = rf.workspace(\"roboflow-universe-projects\").project(\"hard-hats-fhbh5\")\n",
    "dataset = project.version(1).download(\"yolov8\")\n"
   ]
  },
  {
   "cell_type": "code",
   "execution_count": null,
   "metadata": {},
   "outputs": [],
   "source": []
  }
 ],
 "metadata": {
  "kernelspec": {
   "display_name": "base",
   "language": "python",
   "name": "python3"
  },
  "language_info": {
   "codemirror_mode": {
    "name": "ipython",
    "version": 3
   },
   "file_extension": ".py",
   "mimetype": "text/x-python",
   "name": "python",
   "nbconvert_exporter": "python",
   "pygments_lexer": "ipython3",
   "version": "3.11.7"
  },
  "orig_nbformat": 4
 },
 "nbformat": 4,
 "nbformat_minor": 2
}
