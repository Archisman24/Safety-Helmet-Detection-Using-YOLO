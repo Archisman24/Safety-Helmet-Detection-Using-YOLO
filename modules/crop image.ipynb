{
 "cells": [
  {
   "cell_type": "code",
   "execution_count": 11,
   "metadata": {},
   "outputs": [],
   "source": [
    "import os\n",
    "from ultralytics import YOLO\n",
    "from annotations_to_cropped_image import annot2crop"
   ]
  },
  {
   "cell_type": "code",
   "execution_count": null,
   "metadata": {},
   "outputs": [],
   "source": [
    "classes = {\n",
    "    '0': 'helmet',\n",
    "    '1': 'head',\n",
    "    '2': 'person'\n",
    "}\n",
    "classes2crop = ['0', '1']\n",
    "folder = 'dataset'\n",
    "directory = os.path.join(folder, 'test', 'images')\n",
    " \n",
    "# iterate over files in that directory\n",
    "for filename in os.listdir(directory):\n",
    "    f = os.path.join(directory, filename)\n",
    "    print(f)\n",
    "    if os.path.isfile(f):\n",
    "        annot2crop(f, classes = classes, classes2crop = classes2crop)"
   ]
  }
 ],
 "metadata": {
  "kernelspec": {
   "display_name": "base",
   "language": "python",
   "name": "python3"
  },
  "language_info": {
   "codemirror_mode": {
    "name": "ipython",
    "version": 3
   },
   "file_extension": ".py",
   "mimetype": "text/x-python",
   "name": "python",
   "nbconvert_exporter": "python",
   "pygments_lexer": "ipython3",
   "version": "3.11.7"
  },
  "orig_nbformat": 4
 },
 "nbformat": 4,
 "nbformat_minor": 2
}
