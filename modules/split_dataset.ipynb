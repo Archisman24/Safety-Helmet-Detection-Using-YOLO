{
 "cells": [
  {
   "cell_type": "markdown",
   "metadata": {},
   "source": [
    "<center>\n",
    "    <h2>SPLIT DATASET</h2>\n",
    "</center> "
   ]
  },
  {
   "cell_type": "markdown",
   "metadata": {},
   "source": [
    "- Importing the Libraries:"
   ]
  },
  {
   "cell_type": "code",
   "execution_count": 5,
   "metadata": {},
   "outputs": [],
   "source": [
    "import random\n",
    "import glob\n",
    "import os\n",
    "import shutil"
   ]
  },
  {
   "cell_type": "markdown",
   "metadata": {},
   "source": [
    "- Initialising the Folders:"
   ]
  },
  {
   "cell_type": "code",
   "execution_count": 6,
   "metadata": {},
   "outputs": [],
   "source": [
    "label_dir = \"labels\"\n",
    "image_dir = \"images\"\n",
    "lower_limit = 0\n",
    "files = glob.glob(os.path.join(image_dir, '*.png'))\n",
    "\n",
    "random.shuffle(files)\n",
    "\n",
    "folders = {\"train\": 0.8, \"val\": 0.1, \"test\": 0.1}\n",
    "check_sum = sum([folders[x] for x in folders])\n",
    "\n",
    "assert check_sum == 1.0, \"Split proportion is not equal to 1.0\""
   ]
  },
  {
   "cell_type": "markdown",
   "metadata": {},
   "source": [
    "- Defining the Copying function:"
   ]
  },
  {
   "cell_type": "code",
   "execution_count": 7,
   "metadata": {},
   "outputs": [],
   "source": [
    "def copyfiles(fil, root_dir):\n",
    "    basename = os.path.basename(fil)\n",
    "    filename = os.path.splitext(basename)[0]\n",
    "\n",
    "    # copy image\n",
    "    src = fil\n",
    "    dest = os.path.join(root_dir, image_dir, f\"{filename}.jpg\")\n",
    "    shutil.copyfile(src, dest)\n",
    "\n",
    "    # copy annotations\n",
    "    src = os.path.join(label_dir, f\"{filename}.txt\")\n",
    "    dest = os.path.join(root_dir, label_dir, f\"{filename}.txt\")\n",
    "    if os.path.exists(src):\n",
    "        shutil.copyfile(src, dest)"
   ]
  },
  {
   "cell_type": "markdown",
   "metadata": {},
   "source": [
    "- Splitting the dataset:"
   ]
  },
  {
   "cell_type": "code",
   "execution_count": 8,
   "metadata": {},
   "outputs": [],
   "source": [
    "for folder in folders:\n",
    "    os.mkdir(folder)\n",
    "    temp_label_dir = os.path.join(folder, label_dir)\n",
    "    os.mkdir(temp_label_dir)\n",
    "    temp_image_dir = os.path.join(folder, image_dir)\n",
    "    os.mkdir(temp_image_dir)\n",
    "\n",
    "    limit = round(len(files) * folders[folder])\n",
    "    for fil in files[lower_limit:lower_limit + limit]:\n",
    "        copyfiles(fil, folder)\n",
    "    lower_limit = lower_limit + limit"
   ]
  }
 ],
 "metadata": {
  "kernelspec": {
   "display_name": "base",
   "language": "python",
   "name": "python3"
  },
  "language_info": {
   "codemirror_mode": {
    "name": "ipython",
    "version": 3
   },
   "file_extension": ".py",
   "mimetype": "text/x-python",
   "name": "python",
   "nbconvert_exporter": "python",
   "pygments_lexer": "ipython3",
   "version": "3.11.7"
  },
  "orig_nbformat": 4
 },
 "nbformat": 4,
 "nbformat_minor": 2
}
